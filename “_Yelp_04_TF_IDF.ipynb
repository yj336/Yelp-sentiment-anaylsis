{
  "nbformat": 4,
  "nbformat_minor": 0,
  "metadata": {
    "colab": {
      "name": "“ Yelp_04_TF-IDF.ipynb",
      "provenance": [],
      "include_colab_link": true
    },
    "kernelspec": {
      "name": "python3",
      "display_name": "Python 3"
    },
    "accelerator": "GPU"
  },
  "cells": [
    {
      "cell_type": "markdown",
      "metadata": {
        "id": "view-in-github",
        "colab_type": "text"
      },
      "source": [
        "<a href=\"https://colab.research.google.com/github/yj336/Yelp-sentiment-anaylsis/blob/master/%E2%80%9C_Yelp_04_TF_IDF.ipynb\" target=\"_parent\"><img src=\"https://colab.research.google.com/assets/colab-badge.svg\" alt=\"Open In Colab\"/></a>"
      ]
    },
    {
      "cell_type": "code",
      "metadata": {
        "id": "FQLwNBYjb8tE",
        "colab_type": "code",
        "colab": {}
      },
      "source": [
        "!pip install -U -q PyDrive\n",
        "from pydrive.auth import GoogleAuth\n",
        "from pydrive.drive import GoogleDrive\n",
        "from google.colab import auth\n",
        "from oauth2client.client import GoogleCredentials\n",
        "\n",
        "# 1. Authenticate and create the PyDrive client.\n",
        "auth.authenticate_user()\n",
        "gauth = GoogleAuth()\n",
        "gauth.credentials = GoogleCredentials.get_application_default()\n",
        "drive = GoogleDrive(gauth)\n"
      ],
      "execution_count": 0,
      "outputs": []
    },
    {
      "cell_type": "code",
      "metadata": {
        "id": "YQgO6DQ9c9cV",
        "colab_type": "code",
        "colab": {}
      },
      "source": [
        "#2. Get the file\n",
        "#make sure you upload all your data files to your Google drive and change share->Advanced->change->anyone with the link can view\n",
        "downloaded = drive.CreateFile({'id':'1YLqx8zMU6EXdHdIyYiY8Usdakc7o-0SE'}) # replace the id with id of file you want to access https://drive.google.com/open?id=1aehitOH9t2vkDlDxTY3qhZUuX3Mf7_6b\n",
        "downloaded.GetContentFile('review_LV_5_years.csv')  "
      ],
      "execution_count": 0,
      "outputs": []
    },
    {
      "cell_type": "code",
      "metadata": {
        "id": "3OiCj5wwdKR2",
        "colab_type": "code",
        "colab": {}
      },
      "source": [
        "import pandas as pd"
      ],
      "execution_count": 0,
      "outputs": []
    },
    {
      "cell_type": "code",
      "metadata": {
        "id": "LF1hfr0mdNqG",
        "colab_type": "code",
        "colab": {}
      },
      "source": [
        "df_review = pd.read_csv('review_LV_5_years.csv')[['text','stars']]"
      ],
      "execution_count": 0,
      "outputs": []
    },
    {
      "cell_type": "code",
      "metadata": {
        "id": "J3Q7X3E3dSaR",
        "colab_type": "code",
        "outputId": "dde40d65-817b-485d-d1e3-eb088fdf7936",
        "colab": {
          "base_uri": "https://localhost:8080/",
          "height": 202
        }
      },
      "source": [
        "df_review.head()"
      ],
      "execution_count": 0,
      "outputs": [
        {
          "output_type": "execute_result",
          "data": {
            "text/html": [
              "<div>\n",
              "<style scoped>\n",
              "    .dataframe tbody tr th:only-of-type {\n",
              "        vertical-align: middle;\n",
              "    }\n",
              "\n",
              "    .dataframe tbody tr th {\n",
              "        vertical-align: top;\n",
              "    }\n",
              "\n",
              "    .dataframe thead th {\n",
              "        text-align: right;\n",
              "    }\n",
              "</style>\n",
              "<table border=\"1\" class=\"dataframe\">\n",
              "  <thead>\n",
              "    <tr style=\"text-align: right;\">\n",
              "      <th></th>\n",
              "      <th>text</th>\n",
              "      <th>stars</th>\n",
              "    </tr>\n",
              "  </thead>\n",
              "  <tbody>\n",
              "    <tr>\n",
              "      <th>0</th>\n",
              "      <td>The food is always good and the prices are rea...</td>\n",
              "      <td>4.0</td>\n",
              "    </tr>\n",
              "    <tr>\n",
              "      <th>1</th>\n",
              "      <td>My wife ate here and I had pizza from another ...</td>\n",
              "      <td>5.0</td>\n",
              "    </tr>\n",
              "    <tr>\n",
              "      <th>2</th>\n",
              "      <td>Greenberg's Deli is part of the food court are...</td>\n",
              "      <td>4.0</td>\n",
              "    </tr>\n",
              "    <tr>\n",
              "      <th>3</th>\n",
              "      <td>I was a bit skeptical at first since it seems ...</td>\n",
              "      <td>4.0</td>\n",
              "    </tr>\n",
              "    <tr>\n",
              "      <th>4</th>\n",
              "      <td>Authentic New York Style Deli.  This is in the...</td>\n",
              "      <td>5.0</td>\n",
              "    </tr>\n",
              "  </tbody>\n",
              "</table>\n",
              "</div>"
            ],
            "text/plain": [
              "                                                text  stars\n",
              "0  The food is always good and the prices are rea...    4.0\n",
              "1  My wife ate here and I had pizza from another ...    5.0\n",
              "2  Greenberg's Deli is part of the food court are...    4.0\n",
              "3  I was a bit skeptical at first since it seems ...    4.0\n",
              "4  Authentic New York Style Deli.  This is in the...    5.0"
            ]
          },
          "metadata": {
            "tags": []
          },
          "execution_count": 54
        }
      ]
    },
    {
      "cell_type": "code",
      "metadata": {
        "id": "X1GNMpttN8ul",
        "colab_type": "code",
        "colab": {}
      },
      "source": [
        "comments = df_review.text.apply(lambda x: x.lower().split())"
      ],
      "execution_count": 0,
      "outputs": []
    },
    {
      "cell_type": "code",
      "metadata": {
        "id": "g9hgMmJgV7RR",
        "colab_type": "code",
        "outputId": "5f1e921d-b704-4456-f942-b0dcc39e1bc7",
        "colab": {
          "base_uri": "https://localhost:8080/",
          "height": 52
        }
      },
      "source": [
        "import nltk\n",
        "nltk.download('stopwords')\n",
        "from nltk.corpus import stopwords\n",
        "stop = set(stopwords.words('english'))     "
      ],
      "execution_count": 0,
      "outputs": [
        {
          "output_type": "stream",
          "text": [
            "[nltk_data] Downloading package stopwords to /root/nltk_data...\n",
            "[nltk_data]   Package stopwords is already up-to-date!\n"
          ],
          "name": "stdout"
        }
      ]
    },
    {
      "cell_type": "code",
      "metadata": {
        "id": "h_9F9M9gOLWj",
        "colab_type": "code",
        "outputId": "5f1e3668-1114-494b-edac-dd538945dce0",
        "colab": {
          "base_uri": "https://localhost:8080/",
          "height": 52
        }
      },
      "source": [
        "import re\n",
        "nltk.download(\"wordnet\")\n",
        "# Remove stop words\n",
        "clean_comments = []\n",
        "for comment in comments:\n",
        "  clean_comment = []\n",
        "  for word in comment:\n",
        "    word = re.sub(r'[^a-zA-Z]', '', word)\n",
        "    word = word.lower()\n",
        "    if word not in stop:\n",
        "      clean_comment.append(word)\n",
        "  clean_comments.append(clean_comment)\n",
        "# Lemmatization\n",
        "from nltk.stem.wordnet import WordNetLemmatizer\n",
        "wordnet = WordNetLemmatizer()\n",
        "\n",
        "docs_lemma = list()\n",
        "for doc in clean_comments:\n",
        "    a = list()\n",
        "    for word in doc:\n",
        "        a.append(wordnet.lemmatize(word))\n",
        "    docs_lemma.append(a)"
      ],
      "execution_count": 0,
      "outputs": [
        {
          "output_type": "stream",
          "text": [
            "[nltk_data] Downloading package wordnet to /root/nltk_data...\n",
            "[nltk_data]   Package wordnet is already up-to-date!\n"
          ],
          "name": "stdout"
        }
      ]
    },
    {
      "cell_type": "code",
      "metadata": {
        "id": "l3IsNnMJKDhv",
        "colab_type": "code",
        "colab": {}
      },
      "source": [
        "vocabulary = [word for doc in docs_lemma for word in doc]\n",
        "vocabulary = sorted(list(set(vocabulary)))"
      ],
      "execution_count": 0,
      "outputs": []
    },
    {
      "cell_type": "code",
      "metadata": {
        "id": "xQbBLN1AVFnS",
        "colab_type": "code",
        "colab": {}
      },
      "source": [
        "from gensim.corpora import  WikiCorpus\n",
        "from gensim.models import Word2Vec\n",
        "import gensim.downloader as api\n",
        "\n",
        "from sklearn.model_selection import train_test_split"
      ],
      "execution_count": 0,
      "outputs": []
    },
    {
      "cell_type": "code",
      "metadata": {
        "id": "ouA-Mdd8tC_x",
        "colab_type": "code",
        "colab": {}
      },
      "source": [
        "#X = docs_lemma\n",
        "y = df_review['stars'].apply(lambda x: 1 if x == 5 else 0)"
      ],
      "execution_count": 0,
      "outputs": []
    },
    {
      "cell_type": "code",
      "metadata": {
        "id": "f-EJ7mb3s3mt",
        "colab_type": "code",
        "colab": {}
      },
      "source": [
        "X_train, X_test, y_train, y_test = train_test_split(df_review.text, y, test_size = 0.2)"
      ],
      "execution_count": 0,
      "outputs": []
    },
    {
      "cell_type": "code",
      "metadata": {
        "id": "XvDs0jF6Y8y8",
        "colab_type": "code",
        "colab": {}
      },
      "source": [
        "from sklearn.feature_extraction.text import TfidfVectorizer\n",
        "#tfidf_vectorizer = TfidfVectorizer()\n",
        "\n",
        "tfidf_vectorizer_voca = TfidfVectorizer(vocabulary =vocabulary,stop_words=stopwords.words('english'))\n",
        "\n",
        "\n",
        "X_train_tfidf_matrix = tfidf_vectorizer_voca.fit_transform(X_train)\n",
        "X_test_tfidf_matrix =  tfidf_vectorizer_voca.transform(X_test)\n",
        "#X_train_tfidf_matrix_voca = tfidf_vectorizer_voca.fit_transform(X_train)"
      ],
      "execution_count": 0,
      "outputs": []
    },
    {
      "cell_type": "code",
      "metadata": {
        "id": "iVR-QatogEZJ",
        "colab_type": "code",
        "colab": {}
      },
      "source": [
        "import pickle\n",
        "filename = 'tfidf.pkl'\n",
        "with open(filename, 'wb') as file:\n",
        "    pickle.dump(tfidf_vectorizer_voca, file)"
      ],
      "execution_count": 0,
      "outputs": []
    },
    {
      "cell_type": "code",
      "metadata": {
        "id": "6rcx30NlZL__",
        "colab_type": "code",
        "outputId": "9a9dc0d8-2e60-4c73-dd73-7131d2fb9329",
        "colab": {
          "base_uri": "https://localhost:8080/",
          "height": 35
        }
      },
      "source": [
        "from sklearn.naive_bayes import MultinomialNB\n",
        "import time\n",
        "start = time.time()\n",
        "NB = MultinomialNB()\n",
        "NB.fit(X_train_tfidf_matrix,y_train)\n",
        "y_test_pred =NB.predict(X_test_tfidf_matrix)\n",
        "end = time.time()\n",
        "y_test_pred_prob = NB.predict_proba(X_test_tfidf_matrix)\n",
        "print(end-start)"
      ],
      "execution_count": 0,
      "outputs": [
        {
          "output_type": "stream",
          "text": [
            "0.34178686141967773\n"
          ],
          "name": "stdout"
        }
      ]
    },
    {
      "cell_type": "code",
      "metadata": {
        "id": "tEGYK4CbtG2s",
        "colab_type": "code",
        "colab": {}
      },
      "source": [
        "filename = 'NB_model.pkl'\n",
        "with open(filename, 'wb') as file:\n",
        "    pickle.dump(NB, file)"
      ],
      "execution_count": 0,
      "outputs": []
    },
    {
      "cell_type": "code",
      "metadata": {
        "id": "JiGVGqxRiFtv",
        "colab_type": "code",
        "outputId": "6cc1fe05-e1e8-43ae-e90f-cffaf3104857",
        "colab": {
          "base_uri": "https://localhost:8080/",
          "height": 173
        }
      },
      "source": [
        "from sklearn.metrics import classification_report\n",
        "print(classification_report(y_test, y_test_pred))"
      ],
      "execution_count": 0,
      "outputs": [
        {
          "output_type": "stream",
          "text": [
            "              precision    recall  f1-score   support\n",
            "\n",
            "           0       0.81      0.82      0.82     82307\n",
            "           1       0.81      0.79      0.80     75355\n",
            "\n",
            "    accuracy                           0.81    157662\n",
            "   macro avg       0.81      0.81      0.81    157662\n",
            "weighted avg       0.81      0.81      0.81    157662\n",
            "\n"
          ],
          "name": "stdout"
        }
      ]
    },
    {
      "cell_type": "code",
      "metadata": {
        "id": "d84iK9AiMQtP",
        "colab_type": "code",
        "outputId": "7b24f6d2-285f-4852-8030-4b18692c2342",
        "colab": {
          "base_uri": "https://localhost:8080/",
          "height": 225
        }
      },
      "source": [
        "y_test"
      ],
      "execution_count": 0,
      "outputs": [
        {
          "output_type": "execute_result",
          "data": {
            "text/plain": [
              "708162    0\n",
              "40917     1\n",
              "9487      1\n",
              "734002    0\n",
              "342047    1\n",
              "         ..\n",
              "262042    1\n",
              "283981    0\n",
              "587890    0\n",
              "784297    1\n",
              "412379    1\n",
              "Name: stars, Length: 157662, dtype: int64"
            ]
          },
          "metadata": {
            "tags": []
          },
          "execution_count": 56
        }
      ]
    },
    {
      "cell_type": "code",
      "metadata": {
        "id": "9jDpIlfjL26N",
        "colab_type": "code",
        "colab": {}
      },
      "source": [
        "res = []\n",
        "y_test_vec = y_test.reset_index() \n",
        "\n",
        "for i in range(len(y_test_vec)):\n",
        "  if y_test_vec.iloc[i].stars != y_test_pred[i]:\n",
        "    res.append(i)\n"
      ],
      "execution_count": 0,
      "outputs": []
    },
    {
      "cell_type": "code",
      "metadata": {
        "id": "QEHLZWkEPKdD",
        "colab_type": "code",
        "outputId": "3671f069-fe31-4cb6-aef4-e5647a227535",
        "colab": {
          "base_uri": "https://localhost:8080/",
          "height": 35
        }
      },
      "source": [
        "res[0], res[100]"
      ],
      "execution_count": 0,
      "outputs": [
        {
          "output_type": "execute_result",
          "data": {
            "text/plain": [
              "(4, 489)"
            ]
          },
          "metadata": {
            "tags": []
          },
          "execution_count": 69
        }
      ]
    },
    {
      "cell_type": "code",
      "metadata": {
        "id": "cLed8zOjP-FT",
        "colab_type": "code",
        "outputId": "053d474c-5788-4180-e762-0735e176fef2",
        "colab": {
          "base_uri": "https://localhost:8080/",
          "height": 69
        }
      },
      "source": [
        "y_test_vec.iloc[489]"
      ],
      "execution_count": 0,
      "outputs": [
        {
          "output_type": "execute_result",
          "data": {
            "text/plain": [
              "index    252272\n",
              "stars         1\n",
              "Name: 489, dtype: int64"
            ]
          },
          "metadata": {
            "tags": []
          },
          "execution_count": 74
        }
      ]
    },
    {
      "cell_type": "code",
      "metadata": {
        "id": "1MZqJax4QCHY",
        "colab_type": "code",
        "outputId": "0d47b91c-e52e-4dd4-e78c-bfddef58c174",
        "colab": {
          "base_uri": "https://localhost:8080/",
          "height": 55
        }
      },
      "source": [
        "df_review.iloc[252272].text"
      ],
      "execution_count": 0,
      "outputs": [
        {
          "output_type": "execute_result",
          "data": {
            "text/plain": [
              "\"So my boyfriend & I are in Vegas and he suggests... Tournament of Kings. Um.... we're in VEGAS. Parties! Gambling! Booze!! and you want to go to... this? So we popped by Tix4Tonight and picked up some discounted tickets. \\r\\n\\r\\nI was blown away and so very happy with the purchase.\\r\\n\\r\\nFirst of all, the theatre is small so no matter where you sit you get a great view!!\\r\\n\\r\\nSecondly, I didn't realize it was a dinner theatre type event. However, what I love about this, you get to eat while watching the show before you. As oppose to eat. Part 1 starts. Main course comes out during intermission... and so on so forth. \\r\\n\\r\\nThirdly, you get to eat without using utensils and it's awesome. I thought I would be a little grossed out at this part but I quite enjoyed it.\\r\\n\\r\\nFourth, the food is pretty good! You get your own little chicken (not slices of meat) with potatoes \\\\veggies\\\\ (which is actually just a broccoli stem), tomato soup, coffee/tea/soda/water, a biscuit and an apple turnover. I liked the food =)\\r\\n\\r\\nLastly, the show was entertaining! Not overly long, funny... and you get to cheer for your county's \\\\king\\\\. No it's not real fighting but that what makes it fun. They're ARE real horses though so there's a little bit of a smell. But honestly, they keep the arena super clean so really all you're smelling is the dirt in the arena court. \\r\\n\\r\\nSo, all in all a great experience and I'd like to say again that....\\r\\nTIP: BUY YOUR TICKETS AT TIX4TONIGT FOR REDUCED PRICES (SAME SERVICE).\""
            ]
          },
          "metadata": {
            "tags": []
          },
          "execution_count": 75
        }
      ]
    },
    {
      "cell_type": "code",
      "metadata": {
        "id": "4bGo9uTHMqCY",
        "colab_type": "code",
        "outputId": "15ef5a38-25ad-476f-ef3e-eb30904f3580",
        "colab": {
          "base_uri": "https://localhost:8080/",
          "height": 35
        }
      },
      "source": [
        "len(y_test_vec)"
      ],
      "execution_count": 0,
      "outputs": [
        {
          "output_type": "execute_result",
          "data": {
            "text/plain": [
              "157662"
            ]
          },
          "metadata": {
            "tags": []
          },
          "execution_count": 64
        }
      ]
    },
    {
      "cell_type": "code",
      "metadata": {
        "id": "PSn9hkKzxcSR",
        "colab_type": "code",
        "colab": {}
      },
      "source": [
        "from sklearn.metrics import roc_curve\n",
        "\n",
        "fpr_keras, tpr_keras, thresholds_keras = roc_curve(y_test, y_test_pred_prob[:,1])\n",
        "\n",
        "#from sklearn.metrics import auc\n",
        "#auc_keras = auc(fpr_keras, tpr_keras)"
      ],
      "execution_count": 0,
      "outputs": []
    },
    {
      "cell_type": "code",
      "metadata": {
        "id": "xAUl3Thm0La8",
        "colab_type": "code",
        "outputId": "fc5f128f-1114-465b-a95e-34f8620c3e0a",
        "colab": {
          "base_uri": "https://localhost:8080/",
          "height": 35
        }
      },
      "source": [
        "from sklearn.metrics import accuracy_score\n",
        "accuracy_score(y_test, y_test_pred)\n"
      ],
      "execution_count": 0,
      "outputs": [
        {
          "output_type": "execute_result",
          "data": {
            "text/plain": [
              "0.8096053582981314"
            ]
          },
          "metadata": {
            "tags": []
          },
          "execution_count": 49
        }
      ]
    },
    {
      "cell_type": "code",
      "metadata": {
        "id": "_RWwtlW50HfG",
        "colab_type": "code",
        "outputId": "5aeedf35-d64e-4b12-e70e-b73faea730dc",
        "colab": {
          "base_uri": "https://localhost:8080/",
          "height": 295
        }
      },
      "source": [
        "import matplotlib.pyplot as plt\n",
        "plt.figure(1)\n",
        "plt.plot([0, 1], [0, 1], 'k--')\n",
        "plt.plot(fpr_keras, tpr_keras, label='Naive Bayes Model (area = {:.3f})'.format(auc_keras))\n",
        "plt.xlabel('False positive rate')\n",
        "plt.ylabel('True positive rate')\n",
        "plt.title('ROC curve')\n",
        "plt.legend(loc='best')\n",
        "plt.show()"
      ],
      "execution_count": 0,
      "outputs": [
        {
          "output_type": "display_data",
          "data": {
            "image/png": "[encoded data removed]",
            "text/plain": [
              "<Figure size 432x288 with 1 Axes>"
            ]
          },
          "metadata": {
            "tags": []
          }
        }
      ]
    },
    {
      "cell_type": "code",
      "metadata": {
        "id": "oX30-wp3iYXJ",
        "colab_type": "code",
        "outputId": "08a95c49-0ec7-4d63-b53f-7ca5b6743895",
        "colab": {
          "base_uri": "https://localhost:8080/",
          "height": 72
        }
      },
      "source": [
        "from sklearn.svm import SVC\n",
        "svc = SVC()\n",
        "svc.fit(X_train_tfidf_matrix,y_train)\n",
        "y_test_pred =svc.predict(X_test_tfidf_matrix)"
      ],
      "execution_count": 0,
      "outputs": [
        {
          "output_type": "stream",
          "text": [
            "/usr/local/lib/python3.6/dist-packages/sklearn/svm/base.py:193: FutureWarning: The default value of gamma will change from 'auto' to 'scale' in version 0.22 to account better for unscaled features. Set gamma explicitly to 'auto' or 'scale' to avoid this warning.\n",
            "  \"avoid this warning.\", FutureWarning)\n"
          ],
          "name": "stderr"
        }
      ]
    },
    {
      "cell_type": "code",
      "metadata": {
        "id": "J9-raGZZinN4",
        "colab_type": "code",
        "colab": {}
      },
      "source": [
        "from sklearn.metrics import classification_report\n",
        "print(classification_report(y_test, y_test_pred))"
      ],
      "execution_count": 0,
      "outputs": []
    },
    {
      "cell_type": "code",
      "metadata": {
        "id": "XnecF7QDipCF",
        "colab_type": "code",
        "outputId": "15b60e0e-454d-4dcf-a1dd-b484c1933430",
        "colab": {
          "base_uri": "https://localhost:8080/",
          "height": 72
        }
      },
      "source": [
        "from sklearn.ensemble import RandomForestClassifier\n",
        "rdc = RandomForestClassifier()\n",
        "rdc.fit(X_train_tfidf_matrix,y_train)\n",
        "y_test_pred =rdc.predict(X_test_tfidf_matrix)"
      ],
      "execution_count": 0,
      "outputs": [
        {
          "output_type": "stream",
          "text": [
            "/usr/local/lib/python3.6/dist-packages/sklearn/ensemble/forest.py:245: FutureWarning: The default value of n_estimators will change from 10 in version 0.20 to 100 in 0.22.\n",
            "  \"10 in version 0.20 to 100 in 0.22.\", FutureWarning)\n"
          ],
          "name": "stderr"
        }
      ]
    },
    {
      "cell_type": "code",
      "metadata": {
        "id": "Su5C8S8Wi6o4",
        "colab_type": "code",
        "outputId": "3765c2f6-a29b-4bd5-bd6c-4783268f258a",
        "colab": {
          "base_uri": "https://localhost:8080/",
          "height": 173
        }
      },
      "source": [
        "print(classification_report(y_test, y_test_pred))"
      ],
      "execution_count": 0,
      "outputs": [
        {
          "output_type": "stream",
          "text": [
            "              precision    recall  f1-score   support\n",
            "\n",
            "           0       0.74      0.83      0.78     82128\n",
            "           1       0.79      0.69      0.73     75534\n",
            "\n",
            "    accuracy                           0.76    157662\n",
            "   macro avg       0.77      0.76      0.76    157662\n",
            "weighted avg       0.77      0.76      0.76    157662\n",
            "\n"
          ],
          "name": "stdout"
        }
      ]
    }
  ]
}