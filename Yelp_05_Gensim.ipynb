{
  "nbformat": 4,
  "nbformat_minor": 0,
  "metadata": {
    "colab": {
      "name": "Yelp_05_Gensim.ipynb",
      "provenance": [],
      "include_colab_link": true
    },
    "kernelspec": {
      "name": "python3",
      "display_name": "Python 3"
    },
    "accelerator": "GPU"
  },
  "cells": [
    {
      "cell_type": "markdown",
      "metadata": {
        "id": "view-in-github",
        "colab_type": "text"
      },
      "source": [
        "<a href=\"https://colab.research.google.com/github/yj336/Yelp-sentiment-anaylsis/blob/master/Yelp_05_Gensim.ipynb\" target=\"_parent\"><img src=\"https://colab.research.google.com/assets/colab-badge.svg\" alt=\"Open In Colab\"/></a>"
      ]
    },
    {
      "cell_type": "code",
      "metadata": {
        "id": "FQLwNBYjb8tE",
        "colab_type": "code",
        "colab": {}
      },
      "source": [
        "!pip install -U -q PyDrive\n",
        "from pydrive.auth import GoogleAuth\n",
        "from pydrive.drive import GoogleDrive\n",
        "from google.colab import auth\n",
        "from oauth2client.client import GoogleCredentials\n",
        "\n",
        "# 1. Authenticate and create the PyDrive client.\n",
        "auth.authenticate_user()\n",
        "gauth = GoogleAuth()\n",
        "gauth.credentials = GoogleCredentials.get_application_default()\n",
        "drive = GoogleDrive(gauth)\n"
      ],
      "execution_count": 0,
      "outputs": []
    },
    {
      "cell_type": "code",
      "metadata": {
        "id": "YQgO6DQ9c9cV",
        "colab_type": "code",
        "colab": {}
      },
      "source": [
        "#2. Get the file\n",
        "#make sure you upload all your data files to your Google drive and change share->Advanced->change->anyone with the link can view\n",
        "downloaded = drive.CreateFile({'id':'1YLqx8zMU6EXdHdIyYiY8Usdakc7o-0SE'}) # replace the id with id of file you want to access https://drive.google.com/open?id=1aehitOH9t2vkDlDxTY3qhZUuX3Mf7_6b\n",
        "downloaded.GetContentFile('review_LV_5_years.csv')  "
      ],
      "execution_count": 0,
      "outputs": []
    },
    {
      "cell_type": "code",
      "metadata": {
        "id": "3OiCj5wwdKR2",
        "colab_type": "code",
        "colab": {}
      },
      "source": [
        "import pandas as pd"
      ],
      "execution_count": 0,
      "outputs": []
    },
    {
      "cell_type": "code",
      "metadata": {
        "id": "LF1hfr0mdNqG",
        "colab_type": "code",
        "colab": {}
      },
      "source": [
        "df_review = pd.read_csv('review_LV_5_years.csv')[['text','stars']]"
      ],
      "execution_count": 0,
      "outputs": []
    },
    {
      "cell_type": "code",
      "metadata": {
        "id": "J3Q7X3E3dSaR",
        "colab_type": "code",
        "outputId": "9e5006e4-50ad-4022-c2fa-d7b43b17508d",
        "colab": {
          "base_uri": "https://localhost:8080/",
          "height": 202
        }
      },
      "source": [
        "df_review.head()"
      ],
      "execution_count": 0,
      "outputs": [
        {
          "output_type": "execute_result",
          "data": {
            "text/html": [
              "<div>\n",
              "<style scoped>\n",
              "    .dataframe tbody tr th:only-of-type {\n",
              "        vertical-align: middle;\n",
              "    }\n",
              "\n",
              "    .dataframe tbody tr th {\n",
              "        vertical-align: top;\n",
              "    }\n",
              "\n",
              "    .dataframe thead th {\n",
              "        text-align: right;\n",
              "    }\n",
              "</style>\n",
              "<table border=\"1\" class=\"dataframe\">\n",
              "  <thead>\n",
              "    <tr style=\"text-align: right;\">\n",
              "      <th></th>\n",
              "      <th>text</th>\n",
              "      <th>stars</th>\n",
              "    </tr>\n",
              "  </thead>\n",
              "  <tbody>\n",
              "    <tr>\n",
              "      <th>0</th>\n",
              "      <td>The food is always good and the prices are rea...</td>\n",
              "      <td>4.0</td>\n",
              "    </tr>\n",
              "    <tr>\n",
              "      <th>1</th>\n",
              "      <td>My wife ate here and I had pizza from another ...</td>\n",
              "      <td>5.0</td>\n",
              "    </tr>\n",
              "    <tr>\n",
              "      <th>2</th>\n",
              "      <td>Greenberg's Deli is part of the food court are...</td>\n",
              "      <td>4.0</td>\n",
              "    </tr>\n",
              "    <tr>\n",
              "      <th>3</th>\n",
              "      <td>I was a bit skeptical at first since it seems ...</td>\n",
              "      <td>4.0</td>\n",
              "    </tr>\n",
              "    <tr>\n",
              "      <th>4</th>\n",
              "      <td>Authentic New York Style Deli.  This is in the...</td>\n",
              "      <td>5.0</td>\n",
              "    </tr>\n",
              "  </tbody>\n",
              "</table>\n",
              "</div>"
            ],
            "text/plain": [
              "                                                text  stars\n",
              "0  The food is always good and the prices are rea...    4.0\n",
              "1  My wife ate here and I had pizza from another ...    5.0\n",
              "2  Greenberg's Deli is part of the food court are...    4.0\n",
              "3  I was a bit skeptical at first since it seems ...    4.0\n",
              "4  Authentic New York Style Deli.  This is in the...    5.0"
            ]
          },
          "metadata": {
            "tags": []
          },
          "execution_count": 5
        }
      ]
    },
    {
      "cell_type": "code",
      "metadata": {
        "id": "X1GNMpttN8ul",
        "colab_type": "code",
        "colab": {}
      },
      "source": [
        "comments = df_review.text.apply(lambda x: x.lower().split())"
      ],
      "execution_count": 0,
      "outputs": []
    },
    {
      "cell_type": "code",
      "metadata": {
        "id": "g9hgMmJgV7RR",
        "colab_type": "code",
        "outputId": "88a36d39-1b5a-4b12-c1b9-71a4db6b1b6d",
        "colab": {
          "base_uri": "https://localhost:8080/",
          "height": 52
        }
      },
      "source": [
        "import nltk\n",
        "nltk.download('stopwords')\n",
        "from nltk.corpus import stopwords\n",
        "stop = set(stopwords.words('english'))     "
      ],
      "execution_count": 0,
      "outputs": [
        {
          "output_type": "stream",
          "text": [
            "[nltk_data] Downloading package stopwords to /root/nltk_data...\n",
            "[nltk_data]   Unzipping corpora/stopwords.zip.\n"
          ],
          "name": "stdout"
        }
      ]
    },
    {
      "cell_type": "code",
      "metadata": {
        "id": "Mp478HRc4SeR",
        "colab_type": "code",
        "colab": {}
      },
      "source": [
        "with open('stopwords.txt', 'w') as filehandle:\n",
        "    for listitem in stop:\n",
        "        filehandle.write('%s\\n' % listitem)"
      ],
      "execution_count": 0,
      "outputs": []
    },
    {
      "cell_type": "code",
      "metadata": {
        "id": "h_9F9M9gOLWj",
        "colab_type": "code",
        "colab": {}
      },
      "source": [
        "import re\n",
        "# Remove stop words\n",
        "clean_comments = []\n",
        "for comment in comments:\n",
        "  clean_comment = []\n",
        "  \n",
        "  for word in comment:\n",
        "    word = re.sub(r'[^a-zA-Z]', '', word)\n",
        "    word = word.lower()\n",
        "    if word not in stop:\n",
        "      clean_comment.append(word)\n",
        "  clean_comments.append(clean_comment)"
      ],
      "execution_count": 0,
      "outputs": []
    },
    {
      "cell_type": "code",
      "metadata": {
        "id": "xQbBLN1AVFnS",
        "colab_type": "code",
        "colab": {}
      },
      "source": [
        "from gensim.corpora import  WikiCorpus\n",
        "from gensim.models import Word2Vec\n",
        "import gensim.downloader as api"
      ],
      "execution_count": 0,
      "outputs": []
    },
    {
      "cell_type": "code",
      "metadata": {
        "id": "Hql9szO7VyD4",
        "colab_type": "code",
        "colab": {}
      },
      "source": [
        "# Initialize embeddings\n",
        "\n",
        "MAX_NB_WORDS = 3000\n",
        "MAX_SEQUENCE_LENGTH = 100\n",
        "EMBEDDING_DIM = 25"
      ],
      "execution_count": 0,
      "outputs": []
    },
    {
      "cell_type": "code",
      "metadata": {
        "id": "DKlD-2o_Y1wC",
        "colab_type": "code",
        "colab": {}
      },
      "source": [
        "X = clean_comments\n",
        "df_review['sentiment'] = df_review['stars'].apply(lambda x: 1 if x == 5 else 0)\n"
      ],
      "execution_count": 0,
      "outputs": []
    },
    {
      "cell_type": "code",
      "metadata": {
        "id": "XvDs0jF6Y8y8",
        "colab_type": "code",
        "colab": {}
      },
      "source": [
        "from sklearn.model_selection import train_test_split"
      ],
      "execution_count": 0,
      "outputs": []
    },
    {
      "cell_type": "code",
      "metadata": {
        "id": "6rcx30NlZL__",
        "colab_type": "code",
        "colab": {}
      },
      "source": [
        "X_train, X_test, y_train, y_test = train_test_split(X, df_review['sentiment'], test_size = 0.2)"
      ],
      "execution_count": 0,
      "outputs": []
    },
    {
      "cell_type": "code",
      "metadata": {
        "id": "oFIFQmWxYS6E",
        "colab_type": "code",
        "outputId": "8ec9e652-11b6-4d66-f717-44bc818d128a",
        "colab": {
          "base_uri": "https://localhost:8080/",
          "height": 99
        }
      },
      "source": [
        "from keras.preprocessing.text import Tokenizer\n",
        "from keras.preprocessing.sequence import pad_sequences\n",
        "\n",
        "tokenizer = Tokenizer(num_words=MAX_NB_WORDS)\n",
        "tokenizer.fit_on_texts(X_train)\n",
        "sequences = tokenizer.texts_to_sequences(X_train)\n",
        "test_sequences = tokenizer.texts_to_sequences(X_test)\n",
        "word_index = tokenizer.word_index\n",
        "print('Found %s unique tokens.' % len(word_index))"
      ],
      "execution_count": 0,
      "outputs": [
        {
          "output_type": "stream",
          "text": [
            "Using TensorFlow backend.\n"
          ],
          "name": "stderr"
        },
        {
          "output_type": "display_data",
          "data": {
            "text/html": [
              "<p style=\"color: red;\">\n",
              "The default version of TensorFlow in Colab will soon switch to TensorFlow 2.x.<br>\n",
              "We recommend you <a href=\"https://www.tensorflow.org/guide/migrate\" target=\"_blank\">upgrade</a> now \n",
              "or ensure your notebook will continue to use TensorFlow 1.x via the <code>%tensorflow_version 1.x</code> magic:\n",
              "<a href=\"https://colab.research.google.com/notebooks/tensorflow_version.ipynb\" target=\"_blank\">more info</a>.</p>\n"
            ],
            "text/plain": [
              "<IPython.core.display.HTML object>"
            ]
          },
          "metadata": {
            "tags": []
          }
        },
        {
          "output_type": "stream",
          "text": [
            "Found 257339 unique tokens.\n"
          ],
          "name": "stdout"
        }
      ]
    },
    {
      "cell_type": "code",
      "metadata": {
        "id": "6YUMODtV8U5n",
        "colab_type": "code",
        "colab": {}
      },
      "source": [
        "import pickle\n",
        "\n",
        "# saving\n",
        "with open('tokenizer.pickle', 'wb') as handle:\n",
        "    pickle.dump(tokenizer, handle, protocol=pickle.HIGHEST_PROTOCOL)"
      ],
      "execution_count": 0,
      "outputs": []
    },
    {
      "cell_type": "code",
      "metadata": {
        "id": "rItLkatYYV0Y",
        "colab_type": "code",
        "outputId": "10ee2694-a132-4428-be90-565c3bfc8bf4",
        "colab": {
          "base_uri": "https://localhost:8080/",
          "height": 69
        }
      },
      "source": [
        "# gensim pre-trained model\n",
        "from gensim.corpora import  WikiCorpus\n",
        "from gensim.models import Word2Vec\n",
        "import gensim.downloader as api\n",
        "model_glove_twitter = api.load(\"glove-twitter-25\")"
      ],
      "execution_count": 0,
      "outputs": [
        {
          "output_type": "stream",
          "text": [
            "[==================================================] 100.0% 104.8/104.8MB downloaded\n"
          ],
          "name": "stdout"
        },
        {
          "output_type": "stream",
          "text": [
            "/usr/local/lib/python3.6/dist-packages/smart_open/smart_open_lib.py:402: UserWarning: This function is deprecated, use smart_open.open instead. See the migration notes for details: https://github.com/RaRe-Technologies/smart_open/blob/master/README.rst#migrating-to-the-new-open-function\n",
            "  'See the migration notes for details: %s' % _MIGRATION_NOTES_URL\n"
          ],
          "name": "stderr"
        }
      ]
    },
    {
      "cell_type": "code",
      "metadata": {
        "id": "20o7Fi_DYYix",
        "colab_type": "code",
        "colab": {}
      },
      "source": [
        "from keras.utils import to_categorical\n",
        "import numpy as np\n",
        "X_train = pad_sequences(sequences, maxlen=MAX_SEQUENCE_LENGTH)\n",
        "X_test = pad_sequences(test_sequences, maxlen=MAX_SEQUENCE_LENGTH)\n",
        "\n",
        "\n",
        "y_train = to_categorical(np.asarray(y_train))\n",
        "y_test = to_categorical(np.asarray(y_test))\n"
      ],
      "execution_count": 0,
      "outputs": []
    },
    {
      "cell_type": "code",
      "metadata": {
        "id": "2eKMGuwiYbOK",
        "colab_type": "code",
        "colab": {}
      },
      "source": [
        "embeddings_index = {}\n",
        "for word in model_glove_twitter.vocab:\n",
        "  embeddings_index[word] = model_glove_twitter[word]"
      ],
      "execution_count": 0,
      "outputs": []
    },
    {
      "cell_type": "code",
      "metadata": {
        "id": "2m5w_KvYwfje",
        "colab_type": "code",
        "colab": {}
      },
      "source": [
        "embedding_matrix = np.zeros((len(word_index) + 1, EMBEDDING_DIM))\n",
        "for word, i in word_index.items():\n",
        "    embedding_vector = embeddings_index.get(word)\n",
        "    if embedding_vector is not None:\n",
        "        # words not found in embedding index will be all-zeros.\n",
        "        embedding_matrix[i] = embedding_vector"
      ],
      "execution_count": 0,
      "outputs": []
    },
    {
      "cell_type": "code",
      "metadata": {
        "id": "lpdijfZmwlT4",
        "colab_type": "code",
        "colab": {}
      },
      "source": [
        "del df_review\n",
        "del clean_comments"
      ],
      "execution_count": 0,
      "outputs": []
    },
    {
      "cell_type": "code",
      "metadata": {
        "id": "yPX3lfhGz27q",
        "colab_type": "code",
        "colab": {}
      },
      "source": [
        ""
      ],
      "execution_count": 0,
      "outputs": []
    },
    {
      "cell_type": "markdown",
      "metadata": {
        "id": "U6TJlnDsz3Sm",
        "colab_type": "text"
      },
      "source": [
        "https://github.com/ultimate010/crnn/blob/master/sst2_cnn_rnn_kera1.py\n",
        "### CNN+RNN\n"
      ]
    },
    {
      "cell_type": "code",
      "metadata": {
        "id": "c5ae7LTF0BNV",
        "colab_type": "code",
        "outputId": "c091b178-6bd1-4633-b446-b49424384594",
        "colab": {
          "base_uri": "https://localhost:8080/",
          "height": 1000
        }
      },
      "source": [
        "from keras.preprocessing import sequence\n",
        "from keras.models import Sequential\n",
        "from keras.layers import Dropout, Activation, Flatten, \\\n",
        "    Embedding, Convolution1D, MaxPooling1D, AveragePooling1D, \\\n",
        "    Input, Dense, merge, Concatenate\n",
        "from keras.regularizers import l2\n",
        "from keras.layers.recurrent import LSTM, GRU, SimpleRNN\n",
        "from keras.constraints import maxnorm\n",
        "from keras.datasets import imdb\n",
        "from keras import callbacks\n",
        "from keras.utils import generic_utils\n",
        "from keras.models import Model\n",
        "from keras.optimizers import Adadelta\n",
        "import time\n",
        "\n",
        "batch_size = 50\n",
        "nb_filter = 200\n",
        "filter_length = 4\n",
        "hidden_dims = nb_filter * 2\n",
        "nb_epoch = 20\n",
        "RNN = GRU\n",
        "rnn_output_size = 100\n",
        "folds = 10\n",
        "\n",
        "print('Loading data...')\n",
        "\n",
        "\n",
        "max_features = len(word_index)+1\n",
        "embedding_dims = EMBEDDING_DIM\n",
        "\n",
        "print('Train...')\n",
        "accs = []\n",
        "first_run = True\n",
        "print(len(X_train), 'train sequences')\n",
        "print(len(X_test), 'test sequences')\n",
        "print('X_train shape:', X_train.shape)\n",
        "print('X_test shape:', X_test.shape)\n",
        "rand_idx = np.random.permutation(range(len(X_train)))\n",
        "X_train = X_train[rand_idx]\n",
        "y_train = y_train[rand_idx]\n",
        "X_train, X_valid, y_train, y_valid = train_test_split(X_train, y_train, test_size = 0.1)\n",
        "\n",
        "\n",
        "def build_model():\n",
        "    main_input = Input(shape=(MAX_SEQUENCE_LENGTH, ), dtype='int32', name='main_input')\n",
        "    embedding  = Embedding(max_features, embedding_dims,\n",
        "                  weights=[embedding_matrix], input_length=MAX_SEQUENCE_LENGTH,\n",
        "                  name='embedding')(main_input)\n",
        "\n",
        "    embedding = Dropout(0.50)(embedding)\n",
        "\n",
        "    conv4 = Convolution1D(nb_filter=nb_filter,\n",
        "                          filter_length=4,\n",
        "                          border_mode='valid',\n",
        "                          activation='relu',\n",
        "                          subsample_length=1,\n",
        "                          name='conv4')(embedding)\n",
        "    maxConv4 = MaxPooling1D(pool_length=2,\n",
        "                             name='maxConv4')(conv4)\n",
        "\n",
        "    conv5 = Convolution1D(nb_filter=nb_filter,\n",
        "                          filter_length=5,\n",
        "                          border_mode='valid',\n",
        "                          activation='relu',\n",
        "                          subsample_length=1,\n",
        "                          name='conv5')(embedding)\n",
        "    maxConv5 = MaxPooling1D(pool_length=2,\n",
        "                            name='maxConv5')(conv5)\n",
        "\n",
        "    #x = merge([maxConv4, maxConv5], mode='concat')\n",
        "    x = Concatenate()([maxConv4, maxConv5])\n",
        "\n",
        "    x = Dropout(0.15)(x)\n",
        "\n",
        "    x = RNN(rnn_output_size)(x)\n",
        "\n",
        "    x = Dense(hidden_dims, activation='relu', init='he_normal',\n",
        "              W_constraint = maxnorm(3), b_constraint=maxnorm(3),\n",
        "              name='mlp')(x)\n",
        "\n",
        "    x = Dropout(0.10)(x)\n",
        "\n",
        "    output = Dense(2, init='he_normal',\n",
        "                   activation='sigmoid', name='output')(x)\n",
        "\n",
        "    model = Model(input=main_input, output=output)\n",
        "    print('model=Model()')\n",
        "    print(model.summary())\n",
        "    model.compile(loss={'output':'binary_crossentropy'},\n",
        "                optimizer=Adadelta(lr=0.95, epsilon=1e-06),\n",
        "                metrics=[\"accuracy\"])\n",
        "    return model\n",
        "model = build_model()\n",
        "if first_run:\n",
        "    first_run = False\n",
        "    print(model.summary())\n",
        "\n",
        "best_val_acc = 0\n",
        "best_test_acc = 0\n",
        "\n"
      ],
      "execution_count": 0,
      "outputs": [
        {
          "output_type": "stream",
          "text": [
            "Loading data...\n",
            "Train...\n",
            "630646 train sequences\n",
            "157662 test sequences\n",
            "X_train shape: (630646, 100)\n",
            "X_test shape: (157662, 100)\n",
            "WARNING:tensorflow:From /usr/local/lib/python3.6/dist-packages/keras/backend/tensorflow_backend.py:541: The name tf.placeholder is deprecated. Please use tf.compat.v1.placeholder instead.\n",
            "\n",
            "WARNING:tensorflow:From /usr/local/lib/python3.6/dist-packages/keras/backend/tensorflow_backend.py:4432: The name tf.random_uniform is deprecated. Please use tf.random.uniform instead.\n",
            "\n",
            "WARNING:tensorflow:From /usr/local/lib/python3.6/dist-packages/keras/backend/tensorflow_backend.py:190: The name tf.get_default_session is deprecated. Please use tf.compat.v1.get_default_session instead.\n",
            "\n",
            "WARNING:tensorflow:From /usr/local/lib/python3.6/dist-packages/keras/backend/tensorflow_backend.py:197: The name tf.ConfigProto is deprecated. Please use tf.compat.v1.ConfigProto instead.\n",
            "\n",
            "WARNING:tensorflow:From /usr/local/lib/python3.6/dist-packages/keras/backend/tensorflow_backend.py:203: The name tf.Session is deprecated. Please use tf.compat.v1.Session instead.\n",
            "\n",
            "WARNING:tensorflow:From /usr/local/lib/python3.6/dist-packages/keras/backend/tensorflow_backend.py:207: The name tf.global_variables is deprecated. Please use tf.compat.v1.global_variables instead.\n",
            "\n",
            "WARNING:tensorflow:From /usr/local/lib/python3.6/dist-packages/keras/backend/tensorflow_backend.py:216: The name tf.is_variable_initialized is deprecated. Please use tf.compat.v1.is_variable_initialized instead.\n",
            "\n",
            "WARNING:tensorflow:From /usr/local/lib/python3.6/dist-packages/keras/backend/tensorflow_backend.py:223: The name tf.variables_initializer is deprecated. Please use tf.compat.v1.variables_initializer instead.\n",
            "\n",
            "WARNING:tensorflow:From /usr/local/lib/python3.6/dist-packages/keras/backend/tensorflow_backend.py:66: The name tf.get_default_graph is deprecated. Please use tf.compat.v1.get_default_graph instead.\n",
            "\n",
            "WARNING:tensorflow:From /usr/local/lib/python3.6/dist-packages/keras/backend/tensorflow_backend.py:148: The name tf.placeholder_with_default is deprecated. Please use tf.compat.v1.placeholder_with_default instead.\n",
            "\n",
            "WARNING:tensorflow:From /usr/local/lib/python3.6/dist-packages/keras/backend/tensorflow_backend.py:3733: calling dropout (from tensorflow.python.ops.nn_ops) with keep_prob is deprecated and will be removed in a future version.\n",
            "Instructions for updating:\n",
            "Please use `rate` instead of `keep_prob`. Rate should be set to `rate = 1 - keep_prob`.\n",
            "WARNING:tensorflow:From /usr/local/lib/python3.6/dist-packages/keras/backend/tensorflow_backend.py:4267: The name tf.nn.max_pool is deprecated. Please use tf.nn.max_pool2d instead.\n",
            "\n"
          ],
          "name": "stdout"
        },
        {
          "output_type": "stream",
          "text": [
            "/usr/local/lib/python3.6/dist-packages/ipykernel_launcher.py:55: UserWarning: Update your `Conv1D` call to the Keras 2 API: `Conv1D(activation=\"relu\", name=\"conv4\", filters=200, kernel_size=4, strides=1, padding=\"valid\")`\n",
            "/usr/local/lib/python3.6/dist-packages/ipykernel_launcher.py:57: UserWarning: Update your `MaxPooling1D` call to the Keras 2 API: `MaxPooling1D(name=\"maxConv4\", pool_size=2)`\n",
            "/usr/local/lib/python3.6/dist-packages/ipykernel_launcher.py:64: UserWarning: Update your `Conv1D` call to the Keras 2 API: `Conv1D(activation=\"relu\", name=\"conv5\", filters=200, kernel_size=5, strides=1, padding=\"valid\")`\n",
            "/usr/local/lib/python3.6/dist-packages/ipykernel_launcher.py:66: UserWarning: Update your `MaxPooling1D` call to the Keras 2 API: `MaxPooling1D(name=\"maxConv5\", pool_size=2)`\n"
          ],
          "name": "stderr"
        },
        {
          "output_type": "stream",
          "text": [
            "WARNING:tensorflow:From /usr/local/lib/python3.6/dist-packages/keras/backend/tensorflow_backend.py:4479: The name tf.truncated_normal is deprecated. Please use tf.random.truncated_normal instead.\n",
            "\n",
            "model=Model()\n",
            "Model: \"model_1\"\n",
            "__________________________________________________________________________________________________\n",
            "Layer (type)                    Output Shape         Param #     Connected to                     \n",
            "==================================================================================================\n",
            "main_input (InputLayer)         (None, 100)          0                                            \n",
            "__________________________________________________________________________________________________\n",
            "embedding (Embedding)           (None, 100, 25)      6433500     main_input[0][0]                 \n",
            "__________________________________________________________________________________________________\n",
            "dropout_1 (Dropout)             (None, 100, 25)      0           embedding[0][0]                  \n",
            "__________________________________________________________________________________________________\n",
            "conv4 (Conv1D)                  (None, 97, 200)      20200       dropout_1[0][0]                  \n",
            "__________________________________________________________________________________________________\n",
            "conv5 (Conv1D)                  (None, 96, 200)      25200       dropout_1[0][0]                  \n",
            "__________________________________________________________________________________________________\n",
            "maxConv4 (MaxPooling1D)         (None, 48, 200)      0           conv4[0][0]                      \n",
            "__________________________________________________________________________________________________\n",
            "maxConv5 (MaxPooling1D)         (None, 48, 200)      0           conv5[0][0]                      \n",
            "__________________________________________________________________________________________________\n",
            "concatenate_1 (Concatenate)     (None, 48, 400)      0           maxConv4[0][0]                   \n",
            "                                                                 maxConv5[0][0]                   \n",
            "__________________________________________________________________________________________________\n",
            "dropout_2 (Dropout)             (None, 48, 400)      0           concatenate_1[0][0]              \n",
            "__________________________________________________________________________________________________\n",
            "gru_1 (GRU)                     (None, 100)          150300      dropout_2[0][0]                  \n",
            "__________________________________________________________________________________________________\n",
            "mlp (Dense)                     (None, 400)          40400       gru_1[0][0]                      \n",
            "__________________________________________________________________________________________________\n",
            "dropout_3 (Dropout)             (None, 400)          0           mlp[0][0]                        \n",
            "__________________________________________________________________________________________________\n",
            "output (Dense)                  (None, 2)            802         dropout_3[0][0]                  \n",
            "==================================================================================================\n",
            "Total params: 6,670,402\n",
            "Trainable params: 6,670,402\n",
            "Non-trainable params: 0\n",
            "__________________________________________________________________________________________________\n",
            "None\n",
            "WARNING:tensorflow:From /usr/local/lib/python3.6/dist-packages/keras/optimizers.py:793: The name tf.train.Optimizer is deprecated. Please use tf.compat.v1.train.Optimizer instead.\n",
            "\n",
            "WARNING:tensorflow:From /usr/local/lib/python3.6/dist-packages/keras/backend/tensorflow_backend.py:3657: The name tf.log is deprecated. Please use tf.math.log instead.\n",
            "\n",
            "WARNING:tensorflow:From /usr/local/lib/python3.6/dist-packages/tensorflow_core/python/ops/nn_impl.py:183: where (from tensorflow.python.ops.array_ops) is deprecated and will be removed in a future version.\n",
            "Instructions for updating:\n",
            "Use tf.where in 2.0, which has the same broadcast rule as np.where\n",
            "Model: \"model_1\"\n",
            "__________________________________________________________________________________________________\n",
            "Layer (type)                    Output Shape         Param #     Connected to                     \n",
            "==================================================================================================\n",
            "main_input (InputLayer)         (None, 100)          0                                            \n",
            "__________________________________________________________________________________________________\n",
            "embedding (Embedding)           (None, 100, 25)      6433500     main_input[0][0]                 \n",
            "__________________________________________________________________________________________________\n",
            "dropout_1 (Dropout)             (None, 100, 25)      0           embedding[0][0]                  \n",
            "__________________________________________________________________________________________________\n",
            "conv4 (Conv1D)                  (None, 97, 200)      20200       dropout_1[0][0]                  \n",
            "__________________________________________________________________________________________________\n",
            "conv5 (Conv1D)                  (None, 96, 200)      25200       dropout_1[0][0]                  \n",
            "__________________________________________________________________________________________________\n",
            "maxConv4 (MaxPooling1D)         (None, 48, 200)      0           conv4[0][0]                      \n",
            "__________________________________________________________________________________________________\n",
            "maxConv5 (MaxPooling1D)         (None, 48, 200)      0           conv5[0][0]                      \n",
            "__________________________________________________________________________________________________\n",
            "concatenate_1 (Concatenate)     (None, 48, 400)      0           maxConv4[0][0]                   \n",
            "                                                                 maxConv5[0][0]                   \n",
            "__________________________________________________________________________________________________\n",
            "dropout_2 (Dropout)             (None, 48, 400)      0           concatenate_1[0][0]              \n",
            "__________________________________________________________________________________________________\n",
            "gru_1 (GRU)                     (None, 100)          150300      dropout_2[0][0]                  \n",
            "__________________________________________________________________________________________________\n",
            "mlp (Dense)                     (None, 400)          40400       gru_1[0][0]                      \n",
            "__________________________________________________________________________________________________\n",
            "dropout_3 (Dropout)             (None, 400)          0           mlp[0][0]                        \n",
            "__________________________________________________________________________________________________\n",
            "output (Dense)                  (None, 2)            802         dropout_3[0][0]                  \n",
            "==================================================================================================\n",
            "Total params: 6,670,402\n",
            "Trainable params: 6,670,402\n",
            "Non-trainable params: 0\n",
            "__________________________________________________________________________________________________\n",
            "None\n"
          ],
          "name": "stdout"
        },
        {
          "output_type": "stream",
          "text": [
            "/usr/local/lib/python3.6/dist-packages/ipykernel_launcher.py:77: UserWarning: Update your `Dense` call to the Keras 2 API: `Dense(400, activation=\"relu\", name=\"mlp\", kernel_initializer=\"he_normal\", kernel_constraint=<keras.con..., bias_constraint=<keras.con...)`\n",
            "/usr/local/lib/python3.6/dist-packages/ipykernel_launcher.py:82: UserWarning: Update your `Dense` call to the Keras 2 API: `Dense(2, activation=\"sigmoid\", name=\"output\", kernel_initializer=\"he_normal\")`\n",
            "/usr/local/lib/python3.6/dist-packages/ipykernel_launcher.py:84: UserWarning: Update your `Model` call to the Keras 2 API: `Model(inputs=Tensor(\"ma..., outputs=Tensor(\"ou...)`\n"
          ],
          "name": "stderr"
        }
      ]
    },
    {
      "cell_type": "code",
      "metadata": {
        "id": "MMxeZc78H7DM",
        "colab_type": "code",
        "outputId": "816e479a-50cb-4972-db8a-8c3595a2d68e",
        "colab": {
          "base_uri": "https://localhost:8080/",
          "height": 312
        }
      },
      "source": [
        "nb_epoch = 10\n",
        "for j in range(nb_epoch):\n",
        "    a = time.time()\n",
        "    his = model.fit(X_train, y_train,\n",
        "                    batch_size=batch_size,\n",
        "                    validation_data=[X_valid, y_valid],\n",
        "                    shuffle=True,\n",
        "                    nb_epoch=1, verbose=1)\n",
        "    print('Epoch %d/%d\\t%s' % (j + 1, nb_epoch, str(his.history)))\n",
        "    if his.history['val_acc'][0] >= best_val_acc:\n",
        "        score, acc = model.evaluate(X_test, y_test,\n",
        "                                    batch_size=batch_size,\n",
        "                                    verbose=2)\n",
        "        best_val_acc = his.history['val_acc'][0]\n",
        "        best_test_acc = acc\n",
        "        print('Got best epoch  best val acc is %f test acc is %f' %\n",
        "              (best_val_acc, best_test_acc))\n",
        "        if len(accs) > 0:\n",
        "            print('Current avg test acc:', str(np.mean(accs)))\n",
        "    b = time.time()\n",
        "    cost = b - a\n",
        "    left = (nb_epoch - j - 1)\n",
        "    print('One round cost %ds, %d round %ds %dmin left' % (cost, left,\n",
        "                                                           cost * left,\n",
        "                                                           cost * left / 60.0))\n",
        "accs.append(best_test_acc)\n",
        "print('Avg test acc:', str(np.mean(accs)))"
      ],
      "execution_count": 0,
      "outputs": [
        {
          "output_type": "stream",
          "text": [
            "/usr/local/lib/python3.6/dist-packages/ipykernel_launcher.py:8: UserWarning: The `nb_epoch` argument in `fit` has been renamed `epochs`.\n",
            "  \n"
          ],
          "name": "stderr"
        },
        {
          "output_type": "stream",
          "text": [
            "WARNING:tensorflow:From /usr/local/lib/python3.6/dist-packages/keras/backend/tensorflow_backend.py:1033: The name tf.assign_add is deprecated. Please use tf.compat.v1.assign_add instead.\n",
            "\n",
            "WARNING:tensorflow:From /usr/local/lib/python3.6/dist-packages/keras/backend/tensorflow_backend.py:1020: The name tf.assign is deprecated. Please use tf.compat.v1.assign instead.\n",
            "\n",
            "Train on 567581 samples, validate on 63065 samples\n",
            "Epoch 1/1\n",
            "313000/567581 [===============>..............] - ETA: 8:31 - loss: 0.4633 - acc: 0.7799"
          ],
          "name": "stdout"
        },
        {
          "output_type": "stream",
          "text": [
            "/usr/local/lib/python3.6/dist-packages/ipykernel_launcher.py:8: UserWarning: The `nb_epoch` argument in `fit` has been renamed `epochs`.\n",
            "  \n"
          ],
          "name": "stderr"
        },
        {
          "output_type": "stream",
          "text": [
            "WARNING:tensorflow:From /usr/local/lib/python3.6/dist-packages/keras/backend/tensorflow_backend.py:1033: The name tf.assign_add is deprecated. Please use tf.compat.v1.assign_add instead.\n",
            "\n",
            "WARNING:tensorflow:From /usr/local/lib/python3.6/dist-packages/keras/backend/tensorflow_backend.py:1020: The name tf.assign is deprecated. Please use tf.compat.v1.assign instead.\n",
            "\n",
            "Train on 567581 samples, validate on 63065 samples\n",
            "Epoch 1/1\n",
            "567581/567581 [==============================] - 1177s 2ms/step - loss: 0.4388 - acc: 0.7946 - val_loss: 0.3785 - val_acc: 0.8264\n",
            "567581/567581 [==============================] - 1177s 2ms/step - loss: 0.4388 - acc: 0.7946 - val_loss: 0.3785 - val_acc: 0.8264\n",
            "Epoch 1/10\t{'val_loss': [0.37854269340907254], 'val_acc': [0.8264488971914807], 'loss': [0.4387939755377922], 'acc': [0.7945509068288324]}\n",
            "Epoch 1/10\t{'val_loss': [0.37854269340907254], 'val_acc': [0.8264488971914807], 'loss': [0.4387939755377922], 'acc': [0.7945509068288324]}\n",
            "Got best epoch  best val acc is 0.826449 test acc is 0.830000\n",
            "One round cost 1289s, 9 round 11607s 193min left\n",
            "Train on 567581 samples, validate on 63065 samples\n",
            "Epoch 1/1\n",
            "    50/567581 [..............................] - ETA: 21:51 - loss: 0.5022 - acc: 0.7600Got best epoch  best val acc is 0.826449 test acc is 0.830000\n",
            "One round cost 1289s, 9 round 11607s 193min left\n",
            "Train on 567581 samples, validate on 63065 samples\n",
            "Epoch 1/1\n",
            "    50/567581 [..............................] - ETA: 21:51 - loss: 0.5022 - acc: 0.7600"
          ],
          "name": "stdout"
        },
        {
          "output_type": "stream",
          "text": [
            "/usr/local/lib/python3.6/dist-packages/ipykernel_launcher.py:8: UserWarning: The `nb_epoch` argument in `fit` has been renamed `epochs`.\n",
            "  \n",
            "/usr/local/lib/python3.6/dist-packages/ipykernel_launcher.py:8: UserWarning: The `nb_epoch` argument in `fit` has been renamed `epochs`.\n",
            "  \n"
          ],
          "name": "stderr"
        },
        {
          "output_type": "stream",
          "text": [
            "567581/567581 [==============================] - 1159s 2ms/step - loss: 0.3951 - acc: 0.8202 - val_loss: 0.3993 - val_acc: 0.8159\n",
            "567581/567581 [==============================] - 1159s 2ms/step - loss: 0.3951 - acc: 0.8202 - val_loss: 0.3993 - val_acc: 0.8159\n",
            "Epoch 2/10\t{'val_loss': [0.3993289151147668], 'val_acc': [0.8159042208179421], 'loss': [0.3951333010307015], 'acc': [0.8202459163388666]}\n",
            "One round cost 1159s, 8 round 9274s 154min left\n",
            "Train on 567581 samples, validate on 63065 samples\n",
            "Epoch 1/1\n",
            "    50/567581 [..............................] - ETA: 22:19 - loss: 0.4562 - acc: 0.7600Epoch 2/10\t{'val_loss': [0.3993289151147668], 'val_acc': [0.8159042208179421], 'loss': [0.3951333010307015], 'acc': [0.8202459163388666]}\n",
            "One round cost 1159s, 8 round 9274s 154min left\n",
            "Train on 567581 samples, validate on 63065 samples\n",
            "Epoch 1/1\n",
            "567581/567581 [==============================] - 1162s 2ms/step - loss: 0.3856 - acc: 0.8257 - val_loss: 0.3636 - val_acc: 0.8333\n",
            "567581/567581 [==============================] - 1162s 2ms/step - loss: 0.3856 - acc: 0.8257 - val_loss: 0.3636 - val_acc: 0.8333\n",
            "Epoch 3/10\t{'val_loss': [0.363646300870346], 'val_acc': [0.8333386135812056], 'loss': [0.38563433320586143], 'acc': [0.8256962389586504]}\n",
            "Epoch 3/10\t{'val_loss': [0.363646300870346], 'val_acc': [0.8333386135812056], 'loss': [0.38563433320586143], 'acc': [0.8256962389586504]}\n",
            "Got best epoch  best val acc is 0.833339 test acc is 0.836879\n",
            "One round cost 1273s, 7 round 8915s 148min left\n",
            "Train on 567581 samples, validate on 63065 samples\n",
            "Epoch 1/1\n",
            "    50/567581 [..............................] - ETA: 22:24 - loss: 0.3168 - acc: 0.8800Got best epoch  best val acc is 0.833339 test acc is 0.836879\n",
            "One round cost 1273s, 7 round 8915s 148min left\n",
            "Train on 567581 samples, validate on 63065 samples\n",
            "Epoch 1/1\n",
            "246450/567581 [============>.................] - ETA: 11:01 - loss: 0.3821 - acc: 0.8273"
          ],
          "name": "stdout"
        }
      ]
    },
    {
      "cell_type": "code",
      "metadata": {
        "id": "Lw-fAOV3uJXR",
        "colab_type": "code",
        "outputId": "bfe07848-d1f1-4255-9dd6-996f43cb8c7e",
        "colab": {
          "base_uri": "https://localhost:8080/",
          "height": 35
        }
      },
      "source": [
        "best_test_acc"
      ],
      "execution_count": 0,
      "outputs": [
        {
          "output_type": "execute_result",
          "data": {
            "text/plain": [
              "0.8352075901155012"
            ]
          },
          "metadata": {
            "tags": []
          },
          "execution_count": 25
        }
      ]
    },
    {
      "cell_type": "code",
      "metadata": {
        "id": "vcTOutox6UiM",
        "colab_type": "code",
        "outputId": "088c91bb-7a7d-48cd-cabe-2fd652a16d08",
        "colab": {
          "base_uri": "https://localhost:8080/",
          "height": 35
        }
      },
      "source": [
        "accs"
      ],
      "execution_count": 0,
      "outputs": [
        {
          "output_type": "execute_result",
          "data": {
            "text/plain": [
              "[0.8352075901155012]"
            ]
          },
          "metadata": {
            "tags": []
          },
          "execution_count": 27
        }
      ]
    },
    {
      "cell_type": "code",
      "metadata": {
        "id": "azK8LOnJkRXD",
        "colab_type": "code",
        "colab": {}
      },
      "source": [
        "y_test_pred = model.predict(X_test)"
      ],
      "execution_count": 0,
      "outputs": []
    },
    {
      "cell_type": "code",
      "metadata": {
        "id": "DZSdBaqnksfj",
        "colab_type": "code",
        "colab": {}
      },
      "source": [
        "y_train_pred= model.predict(X_train)"
      ],
      "execution_count": 0,
      "outputs": []
    },
    {
      "cell_type": "code",
      "metadata": {
        "id": "rxLv9VSAlhUN",
        "colab_type": "code",
        "outputId": "dff8d632-42be-4e68-ccfd-62ca8d501e4c",
        "colab": {
          "base_uri": "https://localhost:8080/",
          "height": 52
        }
      },
      "source": [
        "y_test_pred[0],y_test[0]\n"
      ],
      "execution_count": 0,
      "outputs": [
        {
          "output_type": "execute_result",
          "data": {
            "text/plain": [
              "(array([0.19058391, 0.8094147 ], dtype=float32),\n",
              " array([1., 0.], dtype=float32))"
            ]
          },
          "metadata": {
            "tags": []
          },
          "execution_count": 40
        }
      ]
    },
    {
      "cell_type": "code",
      "metadata": {
        "id": "dTDwz7Tu6I9o",
        "colab_type": "code",
        "outputId": "e54adf36-f131-4ff4-94cb-6925f6d2240c",
        "colab": {
          "base_uri": "https://localhost:8080/",
          "height": 52
        }
      },
      "source": [
        "import tensorflow as tf\n",
        "from sklearn.metrics import roc_auc_score\n",
        "\n",
        "def auroc(y_true, y_pred):\n",
        "    return roc_auc_score(y_true, y_pred)\n",
        "\n",
        "from keras import metrics\n",
        "#from keras.metrics import accuracy\n",
        "#keras.metrics.accuracy(y_true, y_pred)\n",
        "#print('AUC for training dataset: %.4f'%auroc(y_train, y_train_pred))\n",
        "print('AUC for testing dataset %.4f'%roc_auc_score(y_test, y_test_pred))\n",
        "#print('Accuracy for training dataset: %.4f'%accuracy(y_train, y_train_pred))\n",
        "print('Accuracy for testing dataset: %.4f'%best_test_acc)"
      ],
      "execution_count": 0,
      "outputs": [
        {
          "output_type": "stream",
          "text": [
            "AUC for testing dataset 0.9168\n",
            "Accuracy for testing dataset: 0.8352\n"
          ],
          "name": "stdout"
        }
      ]
    },
    {
      "cell_type": "code",
      "metadata": {
        "id": "3Vv26rTg8q1-",
        "colab_type": "code",
        "outputId": "5cec2e19-8384-4a2d-dc9a-3c26c87bb935",
        "colab": {
          "base_uri": "https://localhost:8080/",
          "height": 173
        }
      },
      "source": [
        "from sklearn.metrics import classification_report\n",
        "y_test_true_report = [x[0] for x in y_test]\n",
        "y_test_pred_report = [1 if x[0] > x[1] else 0 for x in y_test_pred ]\n",
        "print(classification_report(y_test_true_report, y_test_pred_report))"
      ],
      "execution_count": 0,
      "outputs": [
        {
          "output_type": "stream",
          "text": [
            "              precision    recall  f1-score   support\n",
            "\n",
            "         0.0       0.79      0.89      0.84     75067\n",
            "         1.0       0.89      0.78      0.83     82595\n",
            "\n",
            "    accuracy                           0.83    157662\n",
            "   macro avg       0.84      0.84      0.83    157662\n",
            "weighted avg       0.84      0.83      0.83    157662\n",
            "\n"
          ],
          "name": "stdout"
        }
      ]
    },
    {
      "cell_type": "code",
      "metadata": {
        "id": "7E0K4ZPeqNtF",
        "colab_type": "code",
        "outputId": "90cae4da-ac3e-4388-caf9-0cf77b4503a5",
        "colab": {
          "base_uri": "https://localhost:8080/",
          "height": 173
        }
      },
      "source": [
        "# Decrease threashold of negative \n",
        "y_test_true_report = [x[0] for x in y_test]\n",
        "y_test_pred_report = [1 if x[0] > 0.45 else 0 for x in y_test_pred ]\n",
        "print(classification_report(y_test_true_report, y_test_pred_report))"
      ],
      "execution_count": 0,
      "outputs": [
        {
          "output_type": "stream",
          "text": [
            "              precision    recall  f1-score   support\n",
            "\n",
            "         0.0       0.81      0.86      0.83     75067\n",
            "         1.0       0.86      0.82      0.84     82595\n",
            "\n",
            "    accuracy                           0.84    157662\n",
            "   macro avg       0.84      0.84      0.84    157662\n",
            "weighted avg       0.84      0.84      0.84    157662\n",
            "\n"
          ],
          "name": "stdout"
        }
      ]
    },
    {
      "cell_type": "code",
      "metadata": {
        "id": "cWZ6dmXpoSTh",
        "colab_type": "code",
        "outputId": "1df90c29-b517-4492-ee7f-45557d49851f",
        "colab": {
          "base_uri": "https://localhost:8080/",
          "height": 52
        }
      },
      "source": [
        "y_pred_keras"
      ],
      "execution_count": 0,
      "outputs": [
        {
          "output_type": "execute_result",
          "data": {
            "text/plain": [
              "array([0.19058391, 0.8094147 , 0.5041953 , ..., 0.18219647, 0.60812926,\n",
              "       0.3918559 ], dtype=float32)"
            ]
          },
          "metadata": {
            "tags": []
          },
          "execution_count": 69
        }
      ]
    },
    {
      "cell_type": "code",
      "metadata": {
        "id": "shHzVMDWoZ6s",
        "colab_type": "code",
        "outputId": "2b9d39cd-3d76-42c1-d398-d77b5ac7017d",
        "colab": {
          "base_uri": "https://localhost:8080/",
          "height": 35
        }
      },
      "source": [
        "y_pred_keras.shape, y_test.ravel().shape"
      ],
      "execution_count": 0,
      "outputs": [
        {
          "output_type": "execute_result",
          "data": {
            "text/plain": [
              "((315324,), (315324,))"
            ]
          },
          "metadata": {
            "tags": []
          },
          "execution_count": 72
        }
      ]
    },
    {
      "cell_type": "code",
      "metadata": {
        "id": "RReJhlFPl3UW",
        "colab_type": "code",
        "colab": {}
      },
      "source": [
        "from sklearn.metrics import roc_curve\n",
        "y_pred_keras = y_test_pred.ravel()\n",
        "fpr_keras, tpr_keras, thresholds_keras = roc_curve(y_test.ravel(), y_pred_keras)\n",
        "\n",
        "from sklearn.metrics import auc\n",
        "auc_keras = auc(fpr_keras, tpr_keras)"
      ],
      "execution_count": 0,
      "outputs": []
    },
    {
      "cell_type": "code",
      "metadata": {
        "id": "nnx2A4rml9Rr",
        "colab_type": "code",
        "outputId": "1d8abca8-7abd-4936-d8b9-8a2c5f63a138",
        "colab": {
          "base_uri": "https://localhost:8080/",
          "height": 121
        }
      },
      "source": [
        "fpr_keras, tpr_keras, thresholds_keras"
      ],
      "execution_count": 0,
      "outputs": [
        {
          "output_type": "execute_result",
          "data": {
            "text/plain": [
              "(array([0.        , 0.        , 0.        , ..., 0.99898517, 0.99899786,\n",
              "        1.        ]),\n",
              " array([0.00000000e+00, 6.34268245e-06, 2.21993886e-04, ...,\n",
              "        1.00000000e+00, 1.00000000e+00, 1.00000000e+00]),\n",
              " array([1.9999582e+00, 9.9995816e-01, 9.9979246e-01, ..., 4.1976571e-04,\n",
              "        4.1872263e-04, 4.3332577e-05], dtype=float32))"
            ]
          },
          "metadata": {
            "tags": []
          },
          "execution_count": 74
        }
      ]
    },
    {
      "cell_type": "code",
      "metadata": {
        "id": "DwM4EtvJmBhP",
        "colab_type": "code",
        "outputId": "f0024b79-78a0-4950-8a8d-dcf1171672a3",
        "colab": {
          "base_uri": "https://localhost:8080/",
          "height": 295
        }
      },
      "source": [
        "import matplotlib.pyplot as plt\n",
        "plt.figure(1)\n",
        "plt.plot([0, 1], [0, 1], 'k--')\n",
        "plt.plot(fpr_keras, tpr_keras, label='CNN-RNN_GRU (area = {:.3f})'.format(auc_keras))\n",
        "plt.xlabel('False positive rate')\n",
        "plt.ylabel('True positive rate')\n",
        "plt.title('ROC curve')\n",
        "plt.legend(loc='best')\n",
        "plt.show()\n"
      ],
      "execution_count": 0,
      "outputs": [
        {
          "output_type": "display_data",
          "data": {
            "image/png": "[encoded data removed]",
            "text/plain": [
              "<Figure size 432x288 with 1 Axes>"
            ]
          },
          "metadata": {
            "tags": []
          }
        }
      ]
    },
    {
      "cell_type": "code",
      "metadata": {
        "id": "1nQal_n2ydlj",
        "colab_type": "code",
        "outputId": "921fb391-c58e-480d-821d-a6ecd3eeb260",
        "colab": {
          "base_uri": "https://localhost:8080/",
          "height": 346
        }
      },
      "source": [
        "test_1 = 'I hate this place'\n",
        "test_1_sequences = tokenizer.texts_to_sequences(test_1)\n",
        "model.predict(test_1)"
      ],
      "execution_count": 0,
      "outputs": [
        {
          "output_type": "error",
          "ename": "AttributeError",
          "evalue": "ignored",
          "traceback": [
            "\u001b[0;31m---------------------------------------------------------------------------\u001b[0m",
            "\u001b[0;31mAttributeError\u001b[0m                            Traceback (most recent call last)",
            "\u001b[0;32m<ipython-input-86-2b120680e6b7>\u001b[0m in \u001b[0;36m<module>\u001b[0;34m()\u001b[0m\n\u001b[1;32m      1\u001b[0m \u001b[0mtest_1\u001b[0m \u001b[0;34m=\u001b[0m \u001b[0;34m'I hate this place'\u001b[0m\u001b[0;34m\u001b[0m\u001b[0;34m\u001b[0m\u001b[0m\n\u001b[1;32m      2\u001b[0m \u001b[0mtest_1_sequences\u001b[0m \u001b[0;34m=\u001b[0m \u001b[0mtokenizer\u001b[0m\u001b[0;34m.\u001b[0m\u001b[0mtexts_to_sequences\u001b[0m\u001b[0;34m(\u001b[0m\u001b[0mtest_1\u001b[0m\u001b[0;34m)\u001b[0m\u001b[0;34m\u001b[0m\u001b[0;34m\u001b[0m\u001b[0m\n\u001b[0;32m----> 3\u001b[0;31m \u001b[0mmodel\u001b[0m\u001b[0;34m.\u001b[0m\u001b[0mpredict\u001b[0m\u001b[0;34m(\u001b[0m\u001b[0mtest_1\u001b[0m\u001b[0;34m)\u001b[0m\u001b[0;34m\u001b[0m\u001b[0;34m\u001b[0m\u001b[0m\n\u001b[0m",
            "\u001b[0;32m/usr/local/lib/python3.6/dist-packages/keras/engine/training.py\u001b[0m in \u001b[0;36mpredict\u001b[0;34m(self, x, batch_size, verbose, steps, callbacks, max_queue_size, workers, use_multiprocessing)\u001b[0m\n\u001b[1;32m   1378\u001b[0m \u001b[0;34m\u001b[0m\u001b[0m\n\u001b[1;32m   1379\u001b[0m         \u001b[0;31m# Case 2: Symbolic tensors or Numpy array-like.\u001b[0m\u001b[0;34m\u001b[0m\u001b[0;34m\u001b[0m\u001b[0;34m\u001b[0m\u001b[0m\n\u001b[0;32m-> 1380\u001b[0;31m         \u001b[0mx\u001b[0m\u001b[0;34m,\u001b[0m \u001b[0m_\u001b[0m\u001b[0;34m,\u001b[0m \u001b[0m_\u001b[0m \u001b[0;34m=\u001b[0m \u001b[0mself\u001b[0m\u001b[0;34m.\u001b[0m\u001b[0m_standardize_user_data\u001b[0m\u001b[0;34m(\u001b[0m\u001b[0mx\u001b[0m\u001b[0;34m)\u001b[0m\u001b[0;34m\u001b[0m\u001b[0;34m\u001b[0m\u001b[0m\n\u001b[0m\u001b[1;32m   1381\u001b[0m         \u001b[0;32mif\u001b[0m \u001b[0mself\u001b[0m\u001b[0;34m.\u001b[0m\u001b[0mstateful\u001b[0m\u001b[0;34m:\u001b[0m\u001b[0;34m\u001b[0m\u001b[0;34m\u001b[0m\u001b[0m\n\u001b[1;32m   1382\u001b[0m             \u001b[0;32mif\u001b[0m \u001b[0mx\u001b[0m\u001b[0;34m[\u001b[0m\u001b[0;36m0\u001b[0m\u001b[0;34m]\u001b[0m\u001b[0;34m.\u001b[0m\u001b[0mshape\u001b[0m\u001b[0;34m[\u001b[0m\u001b[0;36m0\u001b[0m\u001b[0;34m]\u001b[0m \u001b[0;34m>\u001b[0m \u001b[0mbatch_size\u001b[0m \u001b[0;32mand\u001b[0m \u001b[0mx\u001b[0m\u001b[0;34m[\u001b[0m\u001b[0;36m0\u001b[0m\u001b[0;34m]\u001b[0m\u001b[0;34m.\u001b[0m\u001b[0mshape\u001b[0m\u001b[0;34m[\u001b[0m\u001b[0;36m0\u001b[0m\u001b[0;34m]\u001b[0m \u001b[0;34m%\u001b[0m \u001b[0mbatch_size\u001b[0m \u001b[0;34m!=\u001b[0m \u001b[0;36m0\u001b[0m\u001b[0;34m:\u001b[0m\u001b[0;34m\u001b[0m\u001b[0;34m\u001b[0m\u001b[0m\n",
            "\u001b[0;32m/usr/local/lib/python3.6/dist-packages/keras/engine/training.py\u001b[0m in \u001b[0;36m_standardize_user_data\u001b[0;34m(self, x, y, sample_weight, class_weight, check_array_lengths, batch_size)\u001b[0m\n\u001b[1;32m    755\u001b[0m             \u001b[0mfeed_input_shapes\u001b[0m\u001b[0;34m,\u001b[0m\u001b[0;34m\u001b[0m\u001b[0;34m\u001b[0m\u001b[0m\n\u001b[1;32m    756\u001b[0m             \u001b[0mcheck_batch_axis\u001b[0m\u001b[0;34m=\u001b[0m\u001b[0;32mFalse\u001b[0m\u001b[0;34m,\u001b[0m  \u001b[0;31m# Don't enforce the batch size.\u001b[0m\u001b[0;34m\u001b[0m\u001b[0;34m\u001b[0m\u001b[0m\n\u001b[0;32m--> 757\u001b[0;31m             exception_prefix='input')\n\u001b[0m\u001b[1;32m    758\u001b[0m \u001b[0;34m\u001b[0m\u001b[0m\n\u001b[1;32m    759\u001b[0m         \u001b[0;32mif\u001b[0m \u001b[0my\u001b[0m \u001b[0;32mis\u001b[0m \u001b[0;32mnot\u001b[0m \u001b[0;32mNone\u001b[0m\u001b[0;34m:\u001b[0m\u001b[0;34m\u001b[0m\u001b[0;34m\u001b[0m\u001b[0m\n",
            "\u001b[0;32m/usr/local/lib/python3.6/dist-packages/keras/engine/training_utils.py\u001b[0m in \u001b[0;36mstandardize_input_data\u001b[0;34m(data, names, shapes, check_batch_axis, exception_prefix)\u001b[0m\n\u001b[1;32m     93\u001b[0m         \u001b[0mdata\u001b[0m \u001b[0;34m=\u001b[0m \u001b[0mdata\u001b[0m\u001b[0;34m.\u001b[0m\u001b[0mvalues\u001b[0m \u001b[0;32mif\u001b[0m \u001b[0mdata\u001b[0m\u001b[0;34m.\u001b[0m\u001b[0m__class__\u001b[0m\u001b[0;34m.\u001b[0m\u001b[0m__name__\u001b[0m \u001b[0;34m==\u001b[0m \u001b[0;34m'DataFrame'\u001b[0m \u001b[0;32melse\u001b[0m \u001b[0mdata\u001b[0m\u001b[0;34m\u001b[0m\u001b[0;34m\u001b[0m\u001b[0m\n\u001b[1;32m     94\u001b[0m         \u001b[0mdata\u001b[0m \u001b[0;34m=\u001b[0m \u001b[0;34m[\u001b[0m\u001b[0mdata\u001b[0m\u001b[0;34m]\u001b[0m\u001b[0;34m\u001b[0m\u001b[0;34m\u001b[0m\u001b[0m\n\u001b[0;32m---> 95\u001b[0;31m     \u001b[0mdata\u001b[0m \u001b[0;34m=\u001b[0m \u001b[0;34m[\u001b[0m\u001b[0mstandardize_single_array\u001b[0m\u001b[0;34m(\u001b[0m\u001b[0mx\u001b[0m\u001b[0;34m)\u001b[0m \u001b[0;32mfor\u001b[0m \u001b[0mx\u001b[0m \u001b[0;32min\u001b[0m \u001b[0mdata\u001b[0m\u001b[0;34m]\u001b[0m\u001b[0;34m\u001b[0m\u001b[0;34m\u001b[0m\u001b[0m\n\u001b[0m\u001b[1;32m     96\u001b[0m \u001b[0;34m\u001b[0m\u001b[0m\n\u001b[1;32m     97\u001b[0m     \u001b[0;32mif\u001b[0m \u001b[0mlen\u001b[0m\u001b[0;34m(\u001b[0m\u001b[0mdata\u001b[0m\u001b[0;34m)\u001b[0m \u001b[0;34m!=\u001b[0m \u001b[0mlen\u001b[0m\u001b[0;34m(\u001b[0m\u001b[0mnames\u001b[0m\u001b[0;34m)\u001b[0m\u001b[0;34m:\u001b[0m\u001b[0;34m\u001b[0m\u001b[0;34m\u001b[0m\u001b[0m\n",
            "\u001b[0;32m/usr/local/lib/python3.6/dist-packages/keras/engine/training_utils.py\u001b[0m in \u001b[0;36m<listcomp>\u001b[0;34m(.0)\u001b[0m\n\u001b[1;32m     93\u001b[0m         \u001b[0mdata\u001b[0m \u001b[0;34m=\u001b[0m \u001b[0mdata\u001b[0m\u001b[0;34m.\u001b[0m\u001b[0mvalues\u001b[0m \u001b[0;32mif\u001b[0m \u001b[0mdata\u001b[0m\u001b[0;34m.\u001b[0m\u001b[0m__class__\u001b[0m\u001b[0;34m.\u001b[0m\u001b[0m__name__\u001b[0m \u001b[0;34m==\u001b[0m \u001b[0;34m'DataFrame'\u001b[0m \u001b[0;32melse\u001b[0m \u001b[0mdata\u001b[0m\u001b[0;34m\u001b[0m\u001b[0;34m\u001b[0m\u001b[0m\n\u001b[1;32m     94\u001b[0m         \u001b[0mdata\u001b[0m \u001b[0;34m=\u001b[0m \u001b[0;34m[\u001b[0m\u001b[0mdata\u001b[0m\u001b[0;34m]\u001b[0m\u001b[0;34m\u001b[0m\u001b[0;34m\u001b[0m\u001b[0m\n\u001b[0;32m---> 95\u001b[0;31m     \u001b[0mdata\u001b[0m \u001b[0;34m=\u001b[0m \u001b[0;34m[\u001b[0m\u001b[0mstandardize_single_array\u001b[0m\u001b[0;34m(\u001b[0m\u001b[0mx\u001b[0m\u001b[0;34m)\u001b[0m \u001b[0;32mfor\u001b[0m \u001b[0mx\u001b[0m \u001b[0;32min\u001b[0m \u001b[0mdata\u001b[0m\u001b[0;34m]\u001b[0m\u001b[0;34m\u001b[0m\u001b[0;34m\u001b[0m\u001b[0m\n\u001b[0m\u001b[1;32m     96\u001b[0m \u001b[0;34m\u001b[0m\u001b[0m\n\u001b[1;32m     97\u001b[0m     \u001b[0;32mif\u001b[0m \u001b[0mlen\u001b[0m\u001b[0;34m(\u001b[0m\u001b[0mdata\u001b[0m\u001b[0;34m)\u001b[0m \u001b[0;34m!=\u001b[0m \u001b[0mlen\u001b[0m\u001b[0;34m(\u001b[0m\u001b[0mnames\u001b[0m\u001b[0;34m)\u001b[0m\u001b[0;34m:\u001b[0m\u001b[0;34m\u001b[0m\u001b[0;34m\u001b[0m\u001b[0m\n",
            "\u001b[0;32m/usr/local/lib/python3.6/dist-packages/keras/engine/training_utils.py\u001b[0m in \u001b[0;36mstandardize_single_array\u001b[0;34m(x)\u001b[0m\n\u001b[1;32m     28\u001b[0m                 'Got tensor with shape: %s' % str(shape))\n\u001b[1;32m     29\u001b[0m         \u001b[0;32mreturn\u001b[0m \u001b[0mx\u001b[0m\u001b[0;34m\u001b[0m\u001b[0;34m\u001b[0m\u001b[0m\n\u001b[0;32m---> 30\u001b[0;31m     \u001b[0;32melif\u001b[0m \u001b[0mx\u001b[0m\u001b[0;34m.\u001b[0m\u001b[0mndim\u001b[0m \u001b[0;34m==\u001b[0m \u001b[0;36m1\u001b[0m\u001b[0;34m:\u001b[0m\u001b[0;34m\u001b[0m\u001b[0;34m\u001b[0m\u001b[0m\n\u001b[0m\u001b[1;32m     31\u001b[0m         \u001b[0mx\u001b[0m \u001b[0;34m=\u001b[0m \u001b[0mnp\u001b[0m\u001b[0;34m.\u001b[0m\u001b[0mexpand_dims\u001b[0m\u001b[0;34m(\u001b[0m\u001b[0mx\u001b[0m\u001b[0;34m,\u001b[0m \u001b[0;36m1\u001b[0m\u001b[0;34m)\u001b[0m\u001b[0;34m\u001b[0m\u001b[0;34m\u001b[0m\u001b[0m\n\u001b[1;32m     32\u001b[0m     \u001b[0;32mreturn\u001b[0m \u001b[0mx\u001b[0m\u001b[0;34m\u001b[0m\u001b[0;34m\u001b[0m\u001b[0m\n",
            "\u001b[0;31mAttributeError\u001b[0m: 'str' object has no attribute 'ndim'"
          ]
        }
      ]
    },
    {
      "cell_type": "code",
      "metadata": {
        "id": "ny4o9uRey-t_",
        "colab_type": "code",
        "outputId": "221268bb-5d2f-4c7d-922e-d9a8782e16cf",
        "colab": {
          "base_uri": "https://localhost:8080/",
          "height": 35
        }
      },
      "source": [
        "model.save(\"model_CNN_RNN_GRU.h5\")\n",
        "print(\"Saved model to disk\")"
      ],
      "execution_count": 0,
      "outputs": [
        {
          "output_type": "stream",
          "text": [
            "Saved model to disk\n"
          ],
          "name": "stdout"
        }
      ]
    },
    {
      "cell_type": "code",
      "metadata": {
        "id": "g3UhhP9iza0r",
        "colab_type": "code",
        "colab": {}
      },
      "source": [
        ""
      ],
      "execution_count": 0,
      "outputs": []
    }
  ]
}